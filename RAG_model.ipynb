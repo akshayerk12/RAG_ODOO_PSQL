{
 "cells": [
  {
   "cell_type": "code",
   "execution_count": 26,
   "id": "ab6256ae-47b5-46f2-bfcb-f25cec436080",
   "metadata": {},
   "outputs": [],
   "source": [
    "import json\n",
    "from langchain.schema import Document\n",
    "from langchain_huggingface import HuggingFaceEmbeddings\n",
    "from langchain_chroma import Chroma\n",
    "from langchain_google_genai import ChatGoogleGenerativeAI\n"
   ]
  },
  {
   "cell_type": "code",
   "execution_count": 27,
   "id": "e78b99f7-e888-4a6e-98c1-4379b653d222",
   "metadata": {},
   "outputs": [],
   "source": [
    "from dotenv import load_dotenv\n",
    "import os\n",
    "\n",
    "\n",
    "load_dotenv()\n",
    "api_key = os.getenv('APIKEY')"
   ]
  },
  {
   "cell_type": "code",
   "execution_count": 28,
   "id": "701734f0-8292-49e3-a85e-d138ffb93844",
   "metadata": {
    "scrolled": true
   },
   "outputs": [
    {
     "data": {
      "text/plain": [
       "{'columns': [{'column_name': 'id', 'data_type': 'integer'},\n",
       "  {'column_name': 'create_uid', 'data_type': 'integer'},\n",
       "  {'column_name': 'write_uid', 'data_type': 'integer'},\n",
       "  {'column_name': 'create_date', 'data_type': 'timestamp without time zone'},\n",
       "  {'column_name': 'write_date', 'data_type': 'timestamp without time zone'},\n",
       "  {'column_name': 'field_name', 'data_type': 'character varying'},\n",
       "  {'column_name': 'res_model', 'data_type': 'character varying'},\n",
       "  {'column_name': 'column_name', 'data_type': 'character varying'}],\n",
       " 'primary_keys': ['id'],\n",
       " 'foreign_keys': [{'foreign_table': 'base_import_mapping',\n",
       "   'foreign_column': 'create_uid'},\n",
       "  {'foreign_table': 'base_import_mapping', 'foreign_column': 'write_uid'}]}"
      ]
     },
     "execution_count": 28,
     "metadata": {},
     "output_type": "execute_result"
    }
   ],
   "source": [
    "with open('table_info.json', 'r') as file:\n",
    "    data = json.load(file)\n",
    "\n",
    "data['base_import_mapping']\n"
   ]
  },
  {
   "cell_type": "code",
   "execution_count": 29,
   "id": "8da04cdb-f357-40e4-a0d6-f8371d362aa1",
   "metadata": {},
   "outputs": [
    {
     "name": "stdout",
     "output_type": "stream",
     "text": [
      "dict_keys(['base_import_mapping', 'base_import_import', 'base_import_module', 'ir_module_module_dependency', 'bus_bus', 'web_tour_tour', 'bus_presence', 'iap_account', 'iap_account_res_company_rel', 'iap_account_info', 'web_editor_converter_test_sub', 'web_editor_converter_test', 'res_users_settings', 'uom_uom', 'uom_category', 'onboarding_progress', 'onboarding_progress_onboarding_progress_step_rel', 'onboarding_progress_step', 'onboarding_onboarding', 'onboarding_onboarding_onboarding_onboarding_step_rel', 'onboarding_onboarding_step', 'resource_calendar', 'resource_calendar_attendance', 'resource_resource', 'resource_calendar_leaves', 'ir_logging', 'utm_tag', 'ir_module_category', 'ir_module_module', 'utm_stage', 'utm_tag_rel', 'utm_medium', 'utm_source', 'utm_campaign', 'ir_profile', 'calendar_event_res_partner_rel', 'calendar_attendee', 'calendar_recurrence', 'meeting_category_rel', 'calendar_event_type', 'calendar_alarm_calendar_event_rel', 'calendar_filters', 'calendar_provider_config', 'calendar_popover_delete_wizard', 'calendar_event', 'calendar_alarm', 'res_users_apikeys', 'ir_attachment', 'ir_model_fields_group_rel', 'res_groups', 'ir_model_inherit', 'ir_model_fields_selection', 'ir_model_constraint', 'ir_model_relation', 'ir_model_access', 'ir_ui_menu', 'wizard_ir_model_menu_create', 'ir_sequence', 'ir_sequence_date_range', 'ir_ui_menu_group_rel', 'ir_ui_view_custom', 'ir_ui_view_group_rel', 'reset_view_arch_wizard', 'ir_asset', 'ir_actions', 'ir_act_window', 'ir_act_window_group_rel', 'ir_act_window_view', 'ir_act_url', 'crm_team_member', 'rel_server_actions', 'ir_act_server_group_rel', 'ir_act_server_webhook_field_rel', 'ir_actions_todo', 'ir_act_client', 'ir_act_report_xml', 'res_groups_report_rel', 'report_paperformat', 'ir_cron', 'ir_cron_trigger', 'ir_filters', 'ir_default', 'ir_exports', 'ir_exports_line', 'ir_ui_view', 'ir_rule', 'rule_group_rel', 'ir_config_parameter', 'ir_property', 'ir_module_module_exclusion', 'ir_demo', 'ir_demo_failure', 'ir_demo_failure_wizard', 'report_layout', 'base_enable_profiling_wizard', 'res_country', 'res_country_res_country_group_rel', 'res_country_group', 'res_currency', 'res_lang', 'res_partner_category', 'res_partner_res_partner_category_rel', 'res_partner_title', 'res_partner_industry', 'res_bank', 'res_config', 'res_config_installer', 'res_currency_rate', 'res_company_users_rel', 'res_groups_users_rel', 'res_groups_implied_rel', 'res_users_log', 'res_users_identitycheck', 'change_password_wizard', 'change_password_user', 'change_password_own', 'res_users_apikeys_description', 'res_users_deletion', 'decimal_precision', 'base_module_update', 'base_language_install', 'res_lang_install_rel', 'base_language_import', 'base_module_upgrade', 'res_country_state', 'res_partner_bank', 'base_module_uninstall', 'base_language_export', 'rel_modules_langexport', 'base_partner_merge_automatic_wizard', 'base_partner_merge_line', 'base_partner_merge_automatic_wizard_res_partner_rel', 'base_document_layout', 'auth_totp_device', 'auth_totp_wizard', 'res_users', 'ir_model', 'ir_act_server', 'crm_activity_report', 'ir_model_fields', 'res_partner', 'ir_model_data', 'mail_alias_domain', 'mail_alias', 'mail_activity', 'mail_message', 'mail_mail', 'mail_activity_type', 'mail_activity_rel', 'mail_activity_type_mail_template_rel', 'mail_template', 'activity_attachment_rel', 'mail_activity_plan', 'mail_activity_plan_template', 'mail_blacklist', 'mail_followers', 'mail_followers_mail_message_subtype_rel', 'mail_message_subtype', 'mail_gateway_allowed', 'mail_link_preview', 'mail_message_reaction', 'mail_guest', 'mail_message_schedule', 'mail_message_translation', 'message_attachment_rel', 'mail_message_res_partner_rel', 'mail_message_res_partner_starred_rel', 'mail_mail_res_partner_rel', 'mail_tracking_value', 'email_template_attachment_rel', 'mail_template_ir_actions_report_rel', 'mail_ice_server', 'mail_shortcode', 'res_users_settings_volumes', 'ir_act_server_res_partner_rel', 'mail_partner_device', 'mail_notification_web_push', 'discuss_channel_member', 'discuss_channel', 'discuss_channel_rtc_session', 'discuss_channel_res_groups_rel', 'discuss_gif_favorite', 'discuss_voice_metadata', 'mail_blacklist_remove', 'mail_compose_message', 'mail_compose_message_ir_attachments_rel', 'mail_compose_message_res_partner_rel', 'mail_activity_schedule', 'mail_activity_plan_mail_activity_schedule_rel', 'mail_resend_message', 'mail_notification_mail_resend_message_rel', 'mail_resend_partner', 'mail_template_preview', 'mail_template_reset', 'mail_template_mail_template_reset_rel', 'mail_wizard_invite', 'mail_wizard_invite_res_partner_rel', 'crm_stage', 'account_analytic_plan', 'crm_tag_rel', 'account_analytic_account', 'crm_recurring_plan', 'crm_lost_reason', 'crm_lead_scoring_frequency', 'base_module_install_request', 'base_module_install_review', 'fetchmail_server', 'ir_mail_server', 'phone_blacklist', 'phone_blacklist_remove', 'crm_lead_scoring_frequency_field', 'privacy_log', 'privacy_lookup_wizard', 'privacy_lookup_wizard_line', 'crm_lead_lost', 'crm_lead_crm_lead_lost_rel', 'crm_lead2opportunity_partner', 'crm_lead_crm_lead2opportunity_partner_rel', 'crm_lead2opportunity_partner_mass', 'crm_lead_crm_lead2opportunity_partner_mass_rel', 'crm_convert_lead_mass_lead_rel', 'crm_lead2opportunity_partner_mass_res_users_rel', 'crm_merge_opportunity', 'merge_opportunity_rel', 'crm_lead_pls_update', 'crm_lead_pls_update_crm_lead_scoring_frequency_field_rel', 'crm_lead', 'product_tag_product_template_rel', 'product_tag', 'product_category', 'product_product', 'product_variant_combination', 'product_template_attribute_value', 'product_tag_product_product_rel', 'product_attribute', 'product_attribute_product_template_rel', 'product_attribute_value', 'product_attribute_value_product_template_attribute_line_rel', 'product_template_attribute_line', 'product_pricelist', 'res_country_group_pricelist_rel', 'product_pricelist_item', 'product_supplierinfo', 'product_template_attribute_exclusion', 'product_attr_exclusion_value_ids_rel', 'product_label_layout', 'product_label_layout_product_product_rel', 'product_label_layout_product_template_rel', 'team_favorite_user_rel', 'crm_tag', 'res_partner_autocomplete_sync', 'crm_team', 'portal_share', 'portal_share_res_partner_rel', 'portal_wizard', 'portal_wizard_res_partner_rel', 'portal_wizard_user', 'mail_notification', 'sms_template', 'sms_sms', 'sms_tracker', 'sms_composer', 'sms_resend', 'sms_resend_recipient', 'sms_template_preview', 'sms_template_reset', 'sms_template_sms_template_reset_rel', 'crm_iap_lead_mining_request', 'snailmail_letter', 'snailmail_letter_format_error', 'snailmail_letter_missing_required_fields', 'crm_iap_lead_helpers', 'crm_iap_lead_industry', 'digest_digest_res_users_rel', 'digest_tip', 'digest_tip_res_users_rel', 'crm_iap_lead_industry_crm_iap_lead_mining_request_rel', 'digest_digest', 'crm_iap_lead_role', 'crm_iap_lead_seniority', 'crm_iap_lead_mining_request_crm_tag_rel', 'crm_iap_lead_mining_request_res_country_rel', 'crm_iap_lead_mining_request_crm_iap_lead_role_rel', 'crm_iap_lead_mining_request_res_country_state_rel', 'payment_transaction', 'payment_provider', 'payment_link_wizard', 'payment_method', 'payment_method_payment_provider_rel', 'payment_method_res_country_rel', 'payment_method_res_currency_rel', 'payment_country_rel', 'payment_currency_rel', 'payment_token', 'payment_capture_wizard', 'payment_capture_wizard_payment_transaction_rel', 'crm_quotation_partner', 'payment_provider_onboarding_wizard', 'n8n_chat_histories', 'account_root', 'account_analytic_distribution_model', 'account_analytic_applicability', 'account_analytic_line', 'res_company', 'res_config_settings', 'account_fiscal_position', 'account_fiscal_position_res_country_state_rel', 'account_fiscal_position_tax', 'account_fiscal_position_account', 'account_account', 'account_account_tag', 'account_account_tax_default_rel', 'account_account_account_tag', 'account_account_account_journal_rel', 'account_journal', 'account_group', 'account_journal_group', 'account_journal_account_journal_group_rel', 'journal_account_control_rel', 'account_tax_group', 'account_tax_filiation_rel', 'account_tax_repartition_line', 'account_account_tag_account_tax_repartition_line_rel', 'account_reconcile_model', 'account_reconcile_model_partner_mapping', 'account_reconcile_model_line', 'account_reconcile_model_line_account_tax_rel', 'account_journal_account_reconcile_model_rel', 'account_reconcile_model_res_partner_rel', 'account_reconcile_model_res_partner_category_rel', 'account_payment_term', 'account_bank_statement_line', 'account_partial_reconcile', 'account_incoterms', 'account_cash_rounding', 'account_move_line_account_tax_rel', 'account_account_tag_account_move_line_rel', 'account_bank_statement', 'account_full_reconcile', 'account_payment_method', 'account_bank_statement_ir_attachment_rel', 'account_payment_account_bank_statement_line_rel', 'product_taxes_rel', 'product_supplier_taxes_rel', 'account_account_tag_product_template_rel', 'account_report', 'account_report_section_rel', 'account_report_line', 'account_report_expression', 'account_report_column', 'account_report_external_value', 'account_automatic_entry_wizard', 'account_automatic_entry_wizard_account_move_line_rel', 'account_unreconcile', 'validate_account_move', 'account_move_reversal', 'account_move_reversal_move', 'account_move_reversal_new_move', 'account_resequence_wizard', 'account_move_account_resequence_wizard_rel', 'account_financial_year_op', 'account_setup_bank_manual_config', 'account_move_account_move_send_rel', 'account_move_send_res_partner_rel', 'account_payment_register_move_line_rel', 'account_tour_upload_bill', 'account_tour_upload_bill_ir_attachments_rel', 'account_payment_term_line', 'account_tour_upload_bill_email_confirm', 'account_accrued_orders_wizard', 'account_invoice_transaction_rel', 'payment_refund_wizard', 'spreadsheet_dashboard_group', 'spreadsheet_dashboard', 'res_groups_spreadsheet_dashboard_rel', 'spreadsheet_dashboard_share', 'account_payment', 'account_payment_method_line', 'account_payment_register', 'account_move_line', 'account_move_send', 'product_document', 'product_attribute_custom_value', 'product_packaging', 'product_template', 'sale_order_line', 'sale_order_line_invoice_rel', 'sale_order_transaction_rel', 'sale_order_tag_rel', 'product_template_attribute_value_sale_order_line_rel', 'account_tax_sale_order_line_rel', 'sale_mass_cancel_orders', 'sale_order_mass_cancel_wizard_rel', 'sale_payment_provider_onboarding_wizard', 'sale_advance_payment_inv', 'sale_advance_payment_inv_sale_order_rel', 'account_tax_sale_advance_payment_inv_rel', 'sale_order_cancel', 'sale_order_discount', 'sale_order', 'sale_order_option', 'sale_order_template_line', 'sale_order_template_option', 'product_optional_rel', 'sale_order_template', 'account_tax', 'account_move', 'l10n_in_port_code'])\n"
     ]
    }
   ],
   "source": [
    "print(data.keys())"
   ]
  },
  {
   "cell_type": "code",
   "execution_count": 30,
   "id": "56a09255-77f4-4cfd-b9d8-12feac091a35",
   "metadata": {},
   "outputs": [
    {
     "name": "stdout",
     "output_type": "stream",
     "text": [
      "foreign columns in are  categ_id, uom_id, uom_po_id, company_id, create_uid, write_uid,\n"
     ]
    }
   ],
   "source": [
    "a=data['product_template']['foreign_keys']\n",
    "b='foreign columns in are '\n",
    "for det in a:\n",
    "    b += ' ' + det['foreign_column'] +','\n",
    "print(b)"
   ]
  },
  {
   "cell_type": "code",
   "execution_count": 31,
   "id": "11f33d8d-b9c6-4c1c-901a-3a511cfaced5",
   "metadata": {},
   "outputs": [
    {
     "data": {
      "text/plain": [
       "[{'foreign_table': 'product_template', 'foreign_column': 'categ_id'},\n",
       " {'foreign_table': 'product_template', 'foreign_column': 'uom_id'},\n",
       " {'foreign_table': 'product_template', 'foreign_column': 'uom_po_id'},\n",
       " {'foreign_table': 'product_template', 'foreign_column': 'company_id'},\n",
       " {'foreign_table': 'product_template', 'foreign_column': 'create_uid'},\n",
       " {'foreign_table': 'product_template', 'foreign_column': 'write_uid'}]"
      ]
     },
     "execution_count": 31,
     "metadata": {},
     "output_type": "execute_result"
    }
   ],
   "source": [
    "data['product_template']['foreign_keys']"
   ]
  },
  {
   "cell_type": "code",
   "execution_count": 32,
   "id": "358f74af-c17a-4d6d-9ca3-e0cd379f7fa5",
   "metadata": {},
   "outputs": [],
   "source": [
    "rag_data = []\n",
    "# trying to make a list that contains details of each table in string format\n",
    "for table in data:\n",
    "    table_details = ''\n",
    "    # print(data[table])\n",
    "    length = len(data[table]['columns'])\n",
    "    # print(length)\n",
    "    table_details+= 'Table Name: ' + table + '.' + ' Columns in table ' + table + ' are'\n",
    "    for col in range(length):\n",
    "        table_details+= ', ' + data[table]['columns'][col]['column_name']\n",
    "    table_details += '. Primary keys in the table ' + table + ' are'\n",
    "    length = len(data[table]['primary_keys'])\n",
    "    for prim_key in range(length):\n",
    "        \n",
    "        table_details += ', ' + data[table]['primary_keys'][prim_key]\n",
    "    length = len(data[table]['foreign_keys'])\n",
    "    table_details += '. Foreign keys in the table ' + table + ' are'\n",
    "    for for_key in range(length):\n",
    "        table_details += ', ' + data[table]['foreign_keys'][for_key]['foreign_column']\n",
    "    rag_data.append(table_details)"
   ]
  },
  {
   "cell_type": "code",
   "execution_count": 33,
   "id": "014ebc7d-7c6f-453a-a382-6c5991a02307",
   "metadata": {},
   "outputs": [
    {
     "data": {
      "text/plain": [
       "'Table Name: ir_model_constraint. Columns in table ir_model_constraint are, id, model, module, create_uid, write_uid, message, write_date, create_date, name, definition, type. Primary keys in the table ir_model_constraint are, id. Foreign keys in the table ir_model_constraint are, model, module, create_uid, write_uid'"
      ]
     },
     "execution_count": 33,
     "metadata": {},
     "output_type": "execute_result"
    }
   ],
   "source": [
    "rag_data[52]"
   ]
  },
  {
   "cell_type": "code",
   "execution_count": 34,
   "id": "062425b1-2513-42a0-80f1-6c6587fe5d01",
   "metadata": {},
   "outputs": [
    {
     "data": {
      "text/plain": [
       "True"
      ]
     },
     "execution_count": 34,
     "metadata": {},
     "output_type": "execute_result"
    }
   ],
   "source": [
    "len(rag_data)== len(data.keys()) #Both have same length"
   ]
  },
  {
   "cell_type": "code",
   "execution_count": 35,
   "id": "81d14fd0-d543-438c-9303-797f037f3180",
   "metadata": {},
   "outputs": [],
   "source": [
    "#Try to create a RAG Model from JSON file that consists the details of SQL"
   ]
  },
  {
   "cell_type": "code",
   "execution_count": 36,
   "id": "3f6cd597-1968-4bb9-9c3a-6031fee6db04",
   "metadata": {},
   "outputs": [],
   "source": [
    "with open('table_info.json', 'r') as file:\n",
    "    data = json.load(file)"
   ]
  },
  {
   "cell_type": "code",
   "execution_count": 37,
   "id": "8849c1c4-a7d0-43fc-b2d6-6e9e5265156c",
   "metadata": {},
   "outputs": [],
   "source": [
    "def metadata_func(record: dict, metadata: dict) -> dict:\n",
    "    columns = record.get(\"columns\", [])\n",
    "    for_keys = record.get(\"foreign_keys\", [])\n",
    "    # print(for_keys)\n",
    "    \n",
    "    cname = [col.get(\"column_name\") for col in columns]\n",
    "    dtype = [col.get(\"data_type\") for col in columns]\n",
    "    f_key = [col.get(\"foreign_column\") for col in for_keys]\n",
    "    # cdesc = [col.get(\"Column_Description\") for col in columns]\n",
    "\n",
    "    metadata.update({\n",
    "        \"Table_Name\": '',\n",
    "        # \"Table_Description\": record.get(\"Table_Description\"),\n",
    "        \"Column_Names\": str(cname),\n",
    "        \"Data_Type\": str(dtype),\n",
    "        \"Foreign_Key\": str(f_key),\n",
    "        # \"Column_Description\": str(cdesc),\n",
    "    })\n",
    "    return metadata"
   ]
  },
  {
   "cell_type": "code",
   "execution_count": 38,
   "id": "e80d31c6-0dd7-4cf4-81f5-1121cbb5c5eb",
   "metadata": {},
   "outputs": [],
   "source": [
    "def load():\n",
    "    loaded_data  = []\n",
    "    for table in data:\n",
    "        metadata = {}\n",
    "        transformed_data = metadata_func(data[table], metadata)\n",
    "        transformed_data['Table_Name']=table\n",
    "        loaded_data.append(transformed_data)\n",
    "    return loaded_data"
   ]
  },
  {
   "cell_type": "code",
   "execution_count": 39,
   "id": "5c6d70da-d3bf-453e-8fd0-229415f629dc",
   "metadata": {},
   "outputs": [],
   "source": [
    "data = load()"
   ]
  },
  {
   "cell_type": "code",
   "execution_count": 40,
   "id": "0169bf7d-a19b-4110-ab63-faeeac593b1d",
   "metadata": {},
   "outputs": [],
   "source": [
    "\n",
    "documents = [\n",
    "    Document(\n",
    "        page_content=(\n",
    "            f\"Table Name: {table.get('Table_Name', 'N/A')}. \"\n",
    "\n",
    "        ),\n",
    "        metadata={\n",
    "            \"Table_Name\": table.get(\"Table_Name\", \"\"),\n",
    "            \"Column_Names\": \",\" + str((table.get(\"Column_Names\", []))),  \n",
    "            \"Data_Type\": \", \" + str((table.get(\"Data_Type\", []))),        \n",
    "            \"Foreign_Key\": \", \" + str((table.get(\"Foreign_Key\", [])))\n",
    "        },\n",
    "    )\n",
    "    for table in data\n",
    "]"
   ]
  },
  {
   "cell_type": "code",
   "execution_count": 41,
   "id": "85a9c586-c76d-4017-9f51-a057280ab871",
   "metadata": {},
   "outputs": [
    {
     "data": {
      "text/plain": [
       "Document(metadata={'Table_Name': 'base_import_mapping', 'Column_Names': \",['id', 'create_uid', 'write_uid', 'create_date', 'write_date', 'field_name', 'res_model', 'column_name']\", 'Data_Type': \", ['integer', 'integer', 'integer', 'timestamp without time zone', 'timestamp without time zone', 'character varying', 'character varying', 'character varying']\", 'Foreign_Key': \", ['create_uid', 'write_uid']\"}, page_content='Table Name: base_import_mapping. ')"
      ]
     },
     "execution_count": 41,
     "metadata": {},
     "output_type": "execute_result"
    }
   ],
   "source": [
    "documents[0]"
   ]
  },
  {
   "cell_type": "code",
   "execution_count": 42,
   "id": "87626028-6f6a-4a78-b039-713ea384752f",
   "metadata": {},
   "outputs": [],
   "source": [
    "embeddings = HuggingFaceEmbeddings(model_name=\"sentence-transformers/all-mpnet-base-v2\") #embedding model"
   ]
  },
  {
   "cell_type": "code",
   "execution_count": 43,
   "id": "a1e2de02-7922-4ca8-a086-f34c06cbcd44",
   "metadata": {},
   "outputs": [],
   "source": [
    "vectorstore = Chroma.from_documents(documents, embeddings,persist_directory=\"./chroma_db\") #vector store"
   ]
  },
  {
   "cell_type": "code",
   "execution_count": null,
   "id": "fca8d96d-9eca-4521-95f0-baeddfc6a8eb",
   "metadata": {},
   "outputs": [],
   "source": []
  }
 ],
 "metadata": {
  "kernelspec": {
   "display_name": "CONDA RAG",
   "language": "python",
   "name": "rag_env"
  },
  "language_info": {
   "codemirror_mode": {
    "name": "ipython",
    "version": 3
   },
   "file_extension": ".py",
   "mimetype": "text/x-python",
   "name": "python",
   "nbconvert_exporter": "python",
   "pygments_lexer": "ipython3",
   "version": "3.10.15"
  }
 },
 "nbformat": 4,
 "nbformat_minor": 5
}
